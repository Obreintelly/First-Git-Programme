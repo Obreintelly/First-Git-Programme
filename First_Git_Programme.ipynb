{
  "nbformat": 4,
  "nbformat_minor": 0,
  "metadata": {
    "colab": {
      "name": "First Git Programme.ipynb",
      "provenance": [],
      "collapsed_sections": []
    },
    "kernelspec": {
      "name": "python3",
      "display_name": "Python 3"
    }
  },
  "cells": [
    {
      "cell_type": "code",
      "metadata": {
        "colab": {
          "base_uri": "https://localhost:8080/"
        },
        "id": "QaVSEbqEBBFm",
        "outputId": "71225e09-1e3d-4d6e-a6a6-5784aaecfe38"
      },
      "source": [
        "print(\"This is My first programme in Git\")\r\n",
        "print(\"Hello World\")\r\n",
        "\r\n",
        "import pandas as pd\r\n",
        "import numpy as np"
      ],
      "execution_count": 1,
      "outputs": [
        {
          "output_type": "stream",
          "text": [
            "This is My first programme in Git\n",
            "Hello World\n"
          ],
          "name": "stdout"
        }
      ]
    }
  ]
}